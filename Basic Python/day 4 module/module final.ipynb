{
 "cells": [
  {
   "cell_type": "code",
   "execution_count": 37,
   "id": "75e60a6a-f64d-4e33-b02c-4ff5ac5e8d80",
   "metadata": {},
   "outputs": [
    {
     "data": {
      "text/plain": [
       "3628800"
      ]
     },
     "execution_count": 37,
     "metadata": {},
     "output_type": "execute_result"
    }
   ],
   "source": [
    "import testmodule as tm\n",
    "\n",
    "\n",
    "tm.facto(10)"
   ]
  },
  {
   "cell_type": "code",
   "execution_count": 39,
   "id": "e2ceb2a8-5578-4215-a65d-f1a0d3e293f2",
   "metadata": {},
   "outputs": [
    {
     "name": "stdout",
     "output_type": "stream",
     "text": [
      "Hello! {name}\n"
     ]
    }
   ],
   "source": [
    "tm.greet('shakil')"
   ]
  },
  {
   "cell_type": "code",
   "execution_count": null,
   "id": "731d187d-2fb9-4640-b1d0-a66be3baf7f4",
   "metadata": {},
   "outputs": [],
   "source": []
  }
 ],
 "metadata": {
  "kernelspec": {
   "display_name": "Python 3 (ipykernel)",
   "language": "python",
   "name": "python3"
  },
  "language_info": {
   "codemirror_mode": {
    "name": "ipython",
    "version": 3
   },
   "file_extension": ".py",
   "mimetype": "text/x-python",
   "name": "python",
   "nbconvert_exporter": "python",
   "pygments_lexer": "ipython3",
   "version": "3.12.4"
  }
 },
 "nbformat": 4,
 "nbformat_minor": 5
}
