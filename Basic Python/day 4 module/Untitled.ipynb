{
 "cells": [
  {
   "cell_type": "code",
   "execution_count": 9,
   "id": "9185d88d-eff0-4b84-870c-96ac7b264638",
   "metadata": {},
   "outputs": [],
   "source": [
    "def kutta(a):\n",
    "    for i in a:\n",
    "        yield i\n",
    "\n"
   ]
  },
  {
   "cell_type": "code",
   "execution_count": 11,
   "id": "283773ea-cdb7-4cc6-afee-4aee641951c2",
   "metadata": {},
   "outputs": [],
   "source": [
    "h = [1,2,3,4,5,6,7]"
   ]
  },
  {
   "cell_type": "code",
   "execution_count": 17,
   "id": "bdb764bb-4a57-44fe-bac9-736ac52893de",
   "metadata": {},
   "outputs": [],
   "source": [
    "i = kutta (h)"
   ]
  },
  {
   "cell_type": "code",
   "execution_count": 19,
   "id": "ef23efb3-7fc3-4c5b-bae3-8ea4a961f5c1",
   "metadata": {},
   "outputs": [
    {
     "name": "stdout",
     "output_type": "stream",
     "text": [
      "1\n",
      "2\n",
      "3\n",
      "4\n",
      "5\n",
      "6\n",
      "7\n"
     ]
    }
   ],
   "source": [
    "for j in i:\n",
    "    print(j)"
   ]
  },
  {
   "cell_type": "code",
   "execution_count": null,
   "id": "ba3a2c6a-8793-49e2-a512-2bf2dab74e99",
   "metadata": {},
   "outputs": [],
   "source": [
    "-"
   ]
  }
 ],
 "metadata": {
  "kernelspec": {
   "display_name": "Python 3 (ipykernel)",
   "language": "python",
   "name": "python3"
  },
  "language_info": {
   "codemirror_mode": {
    "name": "ipython",
    "version": 3
   },
   "file_extension": ".py",
   "mimetype": "text/x-python",
   "name": "python",
   "nbconvert_exporter": "python",
   "pygments_lexer": "ipython3",
   "version": "3.12.4"
  }
 },
 "nbformat": 4,
 "nbformat_minor": 5
}
