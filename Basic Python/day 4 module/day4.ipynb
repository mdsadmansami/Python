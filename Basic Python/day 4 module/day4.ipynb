{
 "cells": [
  {
   "cell_type": "markdown",
   "id": "bc12a9e5-3af4-4d26-8ad5-c62077482ddf",
   "metadata": {},
   "source": [
    "#Problem 1"
   ]
  },
  {
   "cell_type": "code",
   "execution_count": 1,
   "id": "788759d5-6359-4f3f-8631-f79e94b9b07d",
   "metadata": {},
   "outputs": [],
   "source": [
    "def smlst(a):\n",
    "    g = sum(a)\n",
    "    return print(g)"
   ]
  },
  {
   "cell_type": "code",
   "execution_count": null,
   "id": "15ecb867-a5d2-48a8-89a0-d48fe2f83fae",
   "metadata": {},
   "outputs": [],
   "source": [
    "h = [1,2,3,4,5]\n",
    "smlst(h)"
   ]
  },
  {
   "cell_type": "code",
   "execution_count": 5,
   "id": "4361f1d7-d200-427d-91cd-b02776fb3610",
   "metadata": {},
   "outputs": [],
   "source": [
    "#Problem2"
   ]
  },
  {
   "cell_type": "code",
   "execution_count": 21,
   "id": "1842dc64-9e80-4505-8a34-5c2f54279456",
   "metadata": {},
   "outputs": [],
   "source": [
    "def rvlst(r):\n",
    "    g = reversed(r)\n",
    "    return print(list(g))"
   ]
  },
  {
   "cell_type": "code",
   "execution_count": 23,
   "id": "adacfaab-3234-4d18-80b5-233acc899ac7",
   "metadata": {},
   "outputs": [
    {
     "name": "stdout",
     "output_type": "stream",
     "text": [
      "[50, 40, 30, 20, 10]\n"
     ]
    }
   ],
   "source": [
    "h = [10,20,30,40,50]\n",
    "rvlst(h)"
   ]
  },
  {
   "cell_type": "code",
   "execution_count": 33,
   "id": "fc01fe04-95d3-4d79-9cb4-1b5fb0845e96",
   "metadata": {},
   "outputs": [],
   "source": [
    "def evnfndr(e):  #problem3\n",
    "    g = []\n",
    "    for i in e:\n",
    "        if i % 2 == 0:\n",
    "            g.append(i)\n",
    "    return print(list(g))\n",
    "            \n",
    "        "
   ]
  },
  {
   "cell_type": "code",
   "execution_count": 31,
   "id": "5fdf6382-8e02-43bb-a7d4-1f05af38f92e",
   "metadata": {},
   "outputs": [
    {
     "name": "stdout",
     "output_type": "stream",
     "text": [
      "[2, 4, 6, 8, 10]\n"
     ]
    }
   ],
   "source": [
    "h = [1,2,3,4,5,6,7,8,9,10]\n",
    "evnfndr(h)"
   ]
  },
  {
   "cell_type": "code",
   "execution_count": 35,
   "id": "d4000802-d739-4022-a01b-f8a95de190c1",
   "metadata": {},
   "outputs": [],
   "source": [
    "def dupfndr(d):\n",
    "    g = []\n",
    "    for i in d:\n",
    "        if i not in g:\n",
    "            g.append(i)\n",
    "    return print(list(g))"
   ]
  },
  {
   "cell_type": "code",
   "execution_count": 37,
   "id": "211f9af8-b7fc-4dbf-b614-f966896a5089",
   "metadata": {},
   "outputs": [
    {
     "name": "stdout",
     "output_type": "stream",
     "text": [
      "[1, 2, 3, 4, 5]\n"
     ]
    }
   ],
   "source": [
    "h = [1,2,2,3,4,4,5]\n",
    "dupfndr(h)"
   ]
  },
  {
   "cell_type": "code",
   "execution_count": 39,
   "id": "d65bc0ee-1294-4bda-96ed-a32a9f977492",
   "metadata": {},
   "outputs": [],
   "source": [
    "def lstcn(c,d):\n",
    "    g = []\n",
    "    for i in c:\n",
    "        if i not in d:\n",
    "            g.append(i)\n",
    "    for i in d:\n",
    "        if i not in c:\n",
    "            g.append(i)\n",
    "    return print(list(g))"
   ]
  },
  {
   "cell_type": "code",
   "execution_count": 41,
   "id": "34a099e0-d41f-43f7-82cc-37369fa5e1a2",
   "metadata": {},
   "outputs": [
    {
     "name": "stdout",
     "output_type": "stream",
     "text": [
      "[1, 2, 3, 4, 5, 6]\n"
     ]
    }
   ],
   "source": [
    "h = [1,2,3]\n",
    "j = [4,5,6]\n",
    "lstcn(h,j)"
   ]
  },
  {
   "cell_type": "code",
   "execution_count": 49,
   "id": "c12b7954-a92f-4d1c-8105-1a39ce461575",
   "metadata": {},
   "outputs": [],
   "source": [
    "def facto(a):\n",
    "    if a==0:\n",
    "        return 1\n",
    "    return a*facto(a-1)"
   ]
  },
  {
   "cell_type": "code",
   "execution_count": 51,
   "id": "eca58e8d-f11b-4176-9b5a-2226df802b09",
   "metadata": {},
   "outputs": [
    {
     "data": {
      "text/plain": [
       "120"
      ]
     },
     "execution_count": 51,
     "metadata": {},
     "output_type": "execute_result"
    }
   ],
   "source": [
    "facto(5)"
   ]
  },
  {
   "cell_type": "code",
   "execution_count": 84,
   "id": "27dba135-b15f-4eb5-b927-05818d074b6b",
   "metadata": {},
   "outputs": [
    {
     "data": {
      "text/plain": [
       "([1, 3, 5], [1, 4, 9, 16, 25], 15)"
      ]
     },
     "execution_count": 84,
     "metadata": {},
     "output_type": "execute_result"
    }
   ],
   "source": [
    "from functools import reduce\n",
    "num = [1,2,3,4,5]\n",
    "h = list(map(lambda x:x**2,num))\n",
    "i = list(filter(lambda x:x%2!=0,num))\n",
    "j = reduce(lambda a,b:a+b, num)\n",
    "i, h, j"
   ]
  },
  {
   "cell_type": "code",
   "execution_count": null,
   "id": "5c7355af-9e74-481f-aee2-bca4cfc60f0e",
   "metadata": {},
   "outputs": [],
   "source": []
  }
 ],
 "metadata": {
  "kernelspec": {
   "display_name": "Python 3 (ipykernel)",
   "language": "python",
   "name": "python3"
  },
  "language_info": {
   "codemirror_mode": {
    "name": "ipython",
    "version": 3
   },
   "file_extension": ".py",
   "mimetype": "text/x-python",
   "name": "python",
   "nbconvert_exporter": "python",
   "pygments_lexer": "ipython3",
   "version": "3.12.4"
  }
 },
 "nbformat": 4,
 "nbformat_minor": 5
}
