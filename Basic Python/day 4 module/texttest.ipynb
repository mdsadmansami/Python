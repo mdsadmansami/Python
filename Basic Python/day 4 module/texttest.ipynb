{
 "cells": [
  {
   "cell_type": "code",
   "execution_count": 36,
   "id": "0e427827-d7cc-4ac1-8d9a-b73f0cdd4d94",
   "metadata": {},
   "outputs": [],
   "source": [
    "h = ['& adiba i love you very very much. i cant stay without u humy. do love me humy? i want to marry u. i will love u very very much humy']\n",
    "with open('test2.txt','a') as file:\n",
    "    for line in h:\n",
    "        file.write(line + '\\n')"
   ]
  },
  {
   "cell_type": "code",
   "execution_count": null,
   "id": "6eb55995-4db7-4ba7-94b2-31b131f4c7c1",
   "metadata": {},
   "outputs": [],
   "source": []
  },
  {
   "cell_type": "code",
   "execution_count": null,
   "id": "779e1fd0-83af-428c-b532-6a603764a44a",
   "metadata": {},
   "outputs": [],
   "source": []
  }
 ],
 "metadata": {
  "kernelspec": {
   "display_name": "Python 3 (ipykernel)",
   "language": "python",
   "name": "python3"
  },
  "language_info": {
   "codemirror_mode": {
    "name": "ipython",
    "version": 3
   },
   "file_extension": ".py",
   "mimetype": "text/x-python",
   "name": "python",
   "nbconvert_exporter": "python",
   "pygments_lexer": "ipython3",
   "version": "3.12.4"
  }
 },
 "nbformat": 4,
 "nbformat_minor": 5
}
