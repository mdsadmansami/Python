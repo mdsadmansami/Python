{
 "cells": [
  {
   "cell_type": "code",
   "execution_count": 1,
   "id": "6c98c3d1-349d-472a-80de-f2a613ee2fcf",
   "metadata": {},
   "outputs": [],
   "source": [
    "import array as ar"
   ]
  },
  {
   "cell_type": "code",
   "execution_count": 3,
   "id": "a9d8bf95-68d0-43f8-a921-c713708680bb",
   "metadata": {},
   "outputs": [],
   "source": [
    "ar1 = ar.array('i',[1,2,3,4])"
   ]
  },
  {
   "cell_type": "code",
   "execution_count": 5,
   "id": "3ec0625d-f8f3-4ac2-bbf4-51e9f0703333",
   "metadata": {},
   "outputs": [
    {
     "data": {
      "text/plain": [
       "array('i', [1, 2, 3, 4])"
      ]
     },
     "execution_count": 5,
     "metadata": {},
     "output_type": "execute_result"
    }
   ],
   "source": [
    "ar1"
   ]
  },
  {
   "cell_type": "code",
   "execution_count": 7,
   "id": "97222c2e-a260-4760-b682-bc28d10186e9",
   "metadata": {},
   "outputs": [
    {
     "data": {
      "text/plain": [
       "array.array"
      ]
     },
     "execution_count": 7,
     "metadata": {},
     "output_type": "execute_result"
    }
   ],
   "source": [
    "type(ar1)"
   ]
  },
  {
   "cell_type": "code",
   "execution_count": 11,
   "id": "ea8af03c-9eae-4715-bdbb-ffe2b66322ee",
   "metadata": {},
   "outputs": [
    {
     "name": "stdin",
     "output_type": "stream",
     "text": [
      "Enter Number of items in the array: 5\n",
      "Enter your items: 1\n",
      "Enter your items: 2\n",
      "Enter your items: 3\n",
      "Enter your items: 4\n",
      "Enter your items: 5\n"
     ]
    },
    {
     "name": "stdout",
     "output_type": "stream",
     "text": [
      "array('f', [1.0, 2.0, 3.0, 4.0, 5.0])\n"
     ]
    }
   ],
   "source": [
    "ar2 = ar.array('f',[])\n",
    "item = int(input('Enter Number of items in the array:'))\n",
    "for i in range(item):\n",
    "    v = float(input('Enter your items:'))\n",
    "    ar2.append(v)\n",
    "print(ar2)"
   ]
  },
  {
   "cell_type": "raw",
   "id": "95313231-12f4-4c3f-8226-ecde31067fe3",
   "metadata": {},
   "source": [
    "#dictionary"
   ]
  },
  {
   "cell_type": "code",
   "execution_count": 18,
   "id": "8b70a0eb-7270-4ee7-aa97-e38de1312a94",
   "metadata": {},
   "outputs": [],
   "source": [
    "info = {\n",
    "    'name' : 'sami',\n",
    "    'varsity' : 'sust',\n",
    "}"
   ]
  },
  {
   "cell_type": "code",
   "execution_count": 20,
   "id": "ce993b98-d001-4c5d-8d33-d273018f31ee",
   "metadata": {},
   "outputs": [
    {
     "data": {
      "text/plain": [
       "{'name': 'sami', 'varsity': 'sust'}"
      ]
     },
     "execution_count": 20,
     "metadata": {},
     "output_type": "execute_result"
    }
   ],
   "source": [
    "info"
   ]
  },
  {
   "cell_type": "code",
   "execution_count": 24,
   "id": "32100773-2308-4b0b-818c-88b1f02e0e14",
   "metadata": {},
   "outputs": [
    {
     "data": {
      "text/plain": [
       "dict_keys(['name', 'varsity'])"
      ]
     },
     "execution_count": 24,
     "metadata": {},
     "output_type": "execute_result"
    }
   ],
   "source": [
    "info.keys(\n",
    ")"
   ]
  },
  {
   "cell_type": "code",
   "execution_count": 26,
   "id": "bbbd7daf-dd10-40b5-9a8b-3ec2933621e1",
   "metadata": {},
   "outputs": [
    {
     "data": {
      "text/plain": [
       "dict_values(['sami', 'sust'])"
      ]
     },
     "execution_count": 26,
     "metadata": {},
     "output_type": "execute_result"
    }
   ],
   "source": [
    "info.values()"
   ]
  },
  {
   "cell_type": "code",
   "execution_count": 30,
   "id": "ab3c6e7c-ca3c-4b89-9409-fa39653018ad",
   "metadata": {},
   "outputs": [],
   "source": [
    "info['dept']= 'IPE'"
   ]
  },
  {
   "cell_type": "code",
   "execution_count": 34,
   "id": "d26ed6d3-c39c-40f8-9b3d-d2afe171b0f8",
   "metadata": {},
   "outputs": [
    {
     "data": {
      "text/plain": [
       "{'name': 'sami', 'varsity': 'sust', 'dept': 'IPE'}"
      ]
     },
     "execution_count": 34,
     "metadata": {},
     "output_type": "execute_result"
    }
   ],
   "source": [
    "info"
   ]
  },
  {
   "cell_type": "code",
   "execution_count": 38,
   "id": "5e09328e-149f-4f34-afe6-539757c0be20",
   "metadata": {},
   "outputs": [
    {
     "name": "stdin",
     "output_type": "stream",
     "text": [
      "Enter number of key info sets: 3\n",
      "Enter your key No.[] name\n",
      "Enter your value No.[] sami\n",
      "Enter your key No.[] varsity\n",
      "Enter your value No.[] ipe\n",
      "Enter your key No.[] dept\n",
      "Enter your value No.[] sust\n"
     ]
    },
    {
     "name": "stdout",
     "output_type": "stream",
     "text": [
      "{'name': 'sami', 'varsity': 'ipe', 'dept': 'sust'}\n"
     ]
    }
   ],
   "source": [
    "d = {}\n",
    "p = int(input('Enter number of key info sets:'))\n",
    "for i in range(p):\n",
    "    k = input('Enter your key No.')\n",
    "    v = input('Enter your value No.')\n",
    "    d[k]=v\n",
    "print(d)"
   ]
  },
  {
   "cell_type": "code",
   "execution_count": 52,
   "id": "8acd21c9-0e9a-482e-96c1-ecae34fcf9af",
   "metadata": {},
   "outputs": [
    {
     "name": "stdout",
     "output_type": "stream",
     "text": [
      "frozenset({('varsity', 'University of Dhaka'), ('name', 'Humyra Adiba'), ('dept', 'Mathematics')})\n"
     ]
    }
   ],
   "source": [
    "keys = ['name','varsity','dept']\n",
    "values = ['Humyra Adiba','University of Dhaka','Mathematics']\n",
    "zipped = frozenset(zip(keys,values))\n",
    "\n",
    "print(zipped)"
   ]
  },
  {
   "cell_type": "code",
   "execution_count": 54,
   "id": "354d60a8-1d7c-4835-8da1-7dadbd24ee3d",
   "metadata": {},
   "outputs": [
    {
     "data": {
      "text/plain": [
       "frozenset"
      ]
     },
     "execution_count": 54,
     "metadata": {},
     "output_type": "execute_result"
    }
   ],
   "source": [
    "type(zipped)"
   ]
  },
  {
   "cell_type": "code",
   "execution_count": 56,
   "id": "5224f53f-36ab-4a39-8c1d-cb0a1efc520c",
   "metadata": {},
   "outputs": [
    {
     "ename": "AttributeError",
     "evalue": "module 'zipfile' has no attribute 'zipfile'",
     "output_type": "error",
     "traceback": [
      "\u001b[1;31m---------------------------------------------------------------------------\u001b[0m",
      "\u001b[1;31mAttributeError\u001b[0m                            Traceback (most recent call last)",
      "Cell \u001b[1;32mIn[56], line 2\u001b[0m\n\u001b[0;32m      1\u001b[0m \u001b[38;5;28;01mimport\u001b[39;00m \u001b[38;5;21;01mzipfile\u001b[39;00m \u001b[38;5;28;01mas\u001b[39;00m \u001b[38;5;21;01mzp\u001b[39;00m\n\u001b[1;32m----> 2\u001b[0m kutta \u001b[38;5;241m=\u001b[39m zp\u001b[38;5;241m.\u001b[39mzipfile(\u001b[38;5;124m'\u001b[39m\u001b[38;5;124mzipped.zip\u001b[39m\u001b[38;5;124m'\u001b[39m,\u001b[38;5;124m'\u001b[39m\u001b[38;5;124mw\u001b[39m\u001b[38;5;124m'\u001b[39m)\n\u001b[0;32m      3\u001b[0m zipwrite()\n",
      "\u001b[1;31mAttributeError\u001b[0m: module 'zipfile' has no attribute 'zipfile'"
     ]
    }
   ],
   "source": [
    "import zipfile as zp\n",
    "kutta = zp.zipfile('zipped.zip','w')\n",
    "zipwrite()"
   ]
  },
  {
   "cell_type": "code",
   "execution_count": 58,
   "id": "edaf7920-d0ef-460e-b01a-d586699f315f",
   "metadata": {},
   "outputs": [
    {
     "data": {
      "text/plain": [
       "'Tr Moto goru ami jibone dekhi nai'"
      ]
     },
     "execution_count": 58,
     "metadata": {},
     "output_type": "execute_result"
    }
   ],
   "source": [
    "text = 'Tr Moto kutta ami jibone dekhi nai'\n",
    "import re\n",
    "re.sub('kutta','goru',text)"
   ]
  },
  {
   "cell_type": "code",
   "execution_count": 72,
   "id": "c66e0a07-7289-44c0-b7db-76edde5421b6",
   "metadata": {},
   "outputs": [
    {
     "name": "stdin",
     "output_type": "stream",
     "text": [
      "How many Numbers do u want to add? 5\n",
      "Give Your Numbers respectively 1\n",
      "Give Your Numbers respectively 2\n",
      "Give Your Numbers respectively 3\n",
      "Give Your Numbers respectively 4\n",
      "Give Your Numbers respectively 5\n"
     ]
    },
    {
     "name": "stdout",
     "output_type": "stream",
     "text": [
      "15.0\n"
     ]
    }
   ],
   "source": [
    "s = []\n",
    "num = int(input('How many Numbers do u want to add?'))\n",
    "for i in range(num):\n",
    "    k = float(input('Give Your Numbers respectively'))\n",
    "    s.append(k)\n",
    "print(sum(s))"
   ]
  },
  {
   "cell_type": "code",
   "execution_count": 74,
   "id": "601006f2-4154-42d3-a15e-0c76a53375ec",
   "metadata": {},
   "outputs": [
    {
     "data": {
      "text/plain": [
       "[1.0, 2.0, 3.0, 4.0, 5.0]"
      ]
     },
     "execution_count": 74,
     "metadata": {},
     "output_type": "execute_result"
    }
   ],
   "source": [
    "s"
   ]
  },
  {
   "cell_type": "code",
   "execution_count": 84,
   "id": "c91f59be-0ea0-4fc2-8e03-69e9bd7d5096",
   "metadata": {},
   "outputs": [
    {
     "data": {
      "text/plain": [
       "'humy+sami'"
      ]
     },
     "execution_count": 84,
     "metadata": {},
     "output_type": "execute_result"
    }
   ],
   "source": [
    "s = ['humy','sami']\n",
    "j = '+'.join(s)\n",
    "j"
   ]
  },
  {
   "cell_type": "code",
   "execution_count": 86,
   "id": "fe8cd2f3-d471-4d48-aa8c-bc5578cfc6a1",
   "metadata": {},
   "outputs": [],
   "source": [
    "def humy(a,b):\n",
    "    return(a+b)"
   ]
  },
  {
   "cell_type": "code",
   "execution_count": 90,
   "id": "c01fe171-9527-4bfd-ba74-81ed1b316501",
   "metadata": {},
   "outputs": [
    {
     "data": {
      "text/plain": [
       "'samihumy'"
      ]
     },
     "execution_count": 90,
     "metadata": {},
     "output_type": "execute_result"
    }
   ],
   "source": [
    "humy('sami','humy')"
   ]
  },
  {
   "cell_type": "code",
   "execution_count": 92,
   "id": "869fb81d-ec5e-49ac-899e-86126a809adb",
   "metadata": {},
   "outputs": [
    {
     "data": {
      "text/plain": [
       "130"
      ]
     },
     "execution_count": 92,
     "metadata": {},
     "output_type": "execute_result"
    }
   ],
   "source": [
    "humy(50,80)"
   ]
  },
  {
   "cell_type": "code",
   "execution_count": 28,
   "id": "fc2aae1e-384e-4c57-9efc-1eb05209f360",
   "metadata": {},
   "outputs": [],
   "source": [
    "def fac(a):\n",
    "    if a == 0:\n",
    "        result = 1\n",
    "    else:\n",
    "        i = 1\n",
    "        result = 1\n",
    "        while i <= a:\n",
    "           result *= i; i = i+1\n",
    "    return result"
   ]
  },
  {
   "cell_type": "code",
   "execution_count": 30,
   "id": "5b89fb1e-f0cc-41aa-9d38-bdbaec663c80",
   "metadata": {},
   "outputs": [],
   "source": [
    "def fac(a):\n",
    "    if a == 0:\n",
    "        result = 1\n",
    "    else:\n",
    "        i = 1\n",
    "        result = 1\n",
    "        while i <= a:\n",
    "            result *= i\n",
    "            i += 1\n",
    "    return result"
   ]
  },
  {
   "cell_type": "code",
   "execution_count": 32,
   "id": "071846c1-ffd7-4f14-bd8d-5a80db0f832c",
   "metadata": {},
   "outputs": [
    {
     "data": {
      "text/plain": [
       "1"
      ]
     },
     "execution_count": 32,
     "metadata": {},
     "output_type": "execute_result"
    }
   ],
   "source": [
    "fac(0)"
   ]
  },
  {
   "cell_type": "code",
   "execution_count": 34,
   "id": "1f8199df-4a90-44bb-b43f-94931117d9e5",
   "metadata": {},
   "outputs": [
    {
     "data": {
      "text/plain": [
       "24"
      ]
     },
     "execution_count": 34,
     "metadata": {},
     "output_type": "execute_result"
    }
   ],
   "source": [
    "fac(4)"
   ]
  },
  {
   "cell_type": "code",
   "execution_count": 36,
   "id": "bddb606c-f37d-461b-a5ff-404d042ae967",
   "metadata": {},
   "outputs": [
    {
     "data": {
      "text/plain": [
       "6"
      ]
     },
     "execution_count": 36,
     "metadata": {},
     "output_type": "execute_result"
    }
   ],
   "source": [
    "fac(3)"
   ]
  },
  {
   "cell_type": "code",
   "execution_count": 84,
   "id": "eb87741d-c5d2-4bb8-8874-0016ecc24ea0",
   "metadata": {},
   "outputs": [],
   "source": [
    "def remvdup(a):\n",
    "    humy = []\n",
    "    for item in a:\n",
    "        if item not in humy:\n",
    "            humy.append(item)\n",
    "    return print(humy)\n",
    "            \n",
    "        "
   ]
  },
  {
   "cell_type": "code",
   "execution_count": 86,
   "id": "8a634427-af22-43cc-96b7-c0f876509420",
   "metadata": {},
   "outputs": [
    {
     "name": "stdout",
     "output_type": "stream",
     "text": [
      "[1, 2, 3]\n"
     ]
    }
   ],
   "source": [
    "a=[1,2,2,2,3,3]\n",
    "remvdup(a)"
   ]
  },
  {
   "cell_type": "code",
   "execution_count": null,
   "id": "b3ab3378-6f27-4355-b8d5-4741548b32c9",
   "metadata": {},
   "outputs": [],
   "source": []
  },
  {
   "cell_type": "code",
   "execution_count": null,
   "id": "2541afd1-591b-4ba1-a2cf-50f35e05b4a0",
   "metadata": {},
   "outputs": [],
   "source": []
  }
 ],
 "metadata": {
  "kernelspec": {
   "display_name": "Python 3 (ipykernel)",
   "language": "python",
   "name": "python3"
  },
  "language_info": {
   "codemirror_mode": {
    "name": "ipython",
    "version": 3
   },
   "file_extension": ".py",
   "mimetype": "text/x-python",
   "name": "python",
   "nbconvert_exporter": "python",
   "pygments_lexer": "ipython3",
   "version": "3.12.4"
  }
 },
 "nbformat": 4,
 "nbformat_minor": 5
}
