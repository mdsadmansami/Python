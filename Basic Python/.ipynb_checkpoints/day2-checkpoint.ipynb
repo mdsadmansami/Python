{
 "cells": [
  {
   "cell_type": "code",
   "execution_count": 1,
   "id": "bf4b3463-a1b2-4aca-96d3-eaf6ad3bcd18",
   "metadata": {},
   "outputs": [],
   "source": [
    "s3 = {2,3,4,5}"
   ]
  },
  {
   "cell_type": "code",
   "execution_count": 3,
   "id": "bfdeb881-417b-415c-ad64-70541d552d68",
   "metadata": {},
   "outputs": [
    {
     "data": {
      "text/plain": [
       "{2, 3, 4, 5}"
      ]
     },
     "execution_count": 3,
     "metadata": {},
     "output_type": "execute_result"
    }
   ],
   "source": [
    "s3"
   ]
  },
  {
   "cell_type": "code",
   "execution_count": 5,
   "id": "a3fb6612-d35d-4093-9579-2b9d8af491a7",
   "metadata": {},
   "outputs": [],
   "source": [
    "s3.add(5)"
   ]
  },
  {
   "cell_type": "code",
   "execution_count": 7,
   "id": "ba61b5c8-6655-46d6-a749-6ca232dff3cd",
   "metadata": {},
   "outputs": [
    {
     "data": {
      "text/plain": [
       "{2, 3, 4, 5}"
      ]
     },
     "execution_count": 7,
     "metadata": {},
     "output_type": "execute_result"
    }
   ],
   "source": [
    "s3"
   ]
  },
  {
   "cell_type": "code",
   "execution_count": 11,
   "id": "5b51d65d-a49b-4a0d-aac3-5fc6df30ab6f",
   "metadata": {},
   "outputs": [],
   "source": [
    "s3.add(6)"
   ]
  },
  {
   "cell_type": "code",
   "execution_count": 13,
   "id": "6ace792d-f687-4cdd-89bb-ab0423d7d09f",
   "metadata": {},
   "outputs": [
    {
     "data": {
      "text/plain": [
       "{2, 3, 4, 5, 6}"
      ]
     },
     "execution_count": 13,
     "metadata": {},
     "output_type": "execute_result"
    }
   ],
   "source": [
    "s3"
   ]
  },
  {
   "cell_type": "code",
   "execution_count": 15,
   "id": "8f82f319-0f94-4e6c-bada-3619e8dd9034",
   "metadata": {},
   "outputs": [],
   "source": [
    "s3 = frozenset(s3)"
   ]
  },
  {
   "cell_type": "code",
   "execution_count": 17,
   "id": "54b1a97f-fa6d-492e-bb2e-cb0a558957a0",
   "metadata": {},
   "outputs": [
    {
     "data": {
      "text/plain": [
       "frozenset({2, 3, 4, 5, 6})"
      ]
     },
     "execution_count": 17,
     "metadata": {},
     "output_type": "execute_result"
    }
   ],
   "source": [
    "s3"
   ]
  },
  {
   "cell_type": "code",
   "execution_count": 19,
   "id": "820e707c-6364-4f72-9aa6-fc2ece6dd449",
   "metadata": {},
   "outputs": [
    {
     "data": {
      "text/plain": [
       "frozenset"
      ]
     },
     "execution_count": 19,
     "metadata": {},
     "output_type": "execute_result"
    }
   ],
   "source": [
    "type(s3)"
   ]
  },
  {
   "cell_type": "code",
   "execution_count": null,
   "id": "f0a09e64-9ae2-4a6b-9912-6eee8ba721d6",
   "metadata": {},
   "outputs": [],
   "source": []
  }
 ],
 "metadata": {
  "kernelspec": {
   "display_name": "Python 3 (ipykernel)",
   "language": "python",
   "name": "python3"
  },
  "language_info": {
   "codemirror_mode": {
    "name": "ipython",
    "version": 3
   },
   "file_extension": ".py",
   "mimetype": "text/x-python",
   "name": "python",
   "nbconvert_exporter": "python",
   "pygments_lexer": "ipython3",
   "version": "3.12.4"
  }
 },
 "nbformat": 4,
 "nbformat_minor": 5
}
