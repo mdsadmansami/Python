{
 "cells": [
  {
   "cell_type": "code",
   "execution_count": 1,
   "id": "c704fbd4-5ce7-4b17-8bbb-7d18db0acd16",
   "metadata": {},
   "outputs": [],
   "source": [
    "import pandas as pd"
   ]
  },
  {
   "cell_type": "code",
   "execution_count": 11,
   "id": "73699ae4-9c11-4bef-8b2e-a6439ad29213",
   "metadata": {},
   "outputs": [
    {
     "data": {
      "text/html": [
       "<div>\n",
       "<style scoped>\n",
       "    .dataframe tbody tr th:only-of-type {\n",
       "        vertical-align: middle;\n",
       "    }\n",
       "\n",
       "    .dataframe tbody tr th {\n",
       "        vertical-align: top;\n",
       "    }\n",
       "\n",
       "    .dataframe thead th {\n",
       "        text-align: right;\n",
       "    }\n",
       "</style>\n",
       "<table border=\"1\" class=\"dataframe\">\n",
       "  <thead>\n",
       "    <tr style=\"text-align: right;\">\n",
       "      <th></th>\n",
       "      <th>Extruder Velocity</th>\n",
       "      <th>Extruder Temperature</th>\n",
       "      <th>Layer Thickness</th>\n",
       "      <th>Serial</th>\n",
       "      <th>Processing Time</th>\n",
       "      <th>Thickness (End1, middle, End2) (mm)</th>\n",
       "      <th>Unnamed: 6</th>\n",
       "      <th>Unnamed: 7</th>\n",
       "      <th>Width (mm)</th>\n",
       "    </tr>\n",
       "  </thead>\n",
       "  <tbody>\n",
       "    <tr>\n",
       "      <th>0</th>\n",
       "      <td>40.0</td>\n",
       "      <td>205.0</td>\n",
       "      <td>0.15</td>\n",
       "      <td>7.0</td>\n",
       "      <td>12m7s</td>\n",
       "      <td>0.900</td>\n",
       "      <td>0.410</td>\n",
       "      <td>0.630</td>\n",
       "      <td>24.900</td>\n",
       "    </tr>\n",
       "    <tr>\n",
       "      <th>1</th>\n",
       "      <td>45.0</td>\n",
       "      <td>200.0</td>\n",
       "      <td>0.25</td>\n",
       "      <td>34.0</td>\n",
       "      <td>7m26s</td>\n",
       "      <td>0.830</td>\n",
       "      <td>0.450</td>\n",
       "      <td>0.700</td>\n",
       "      <td>24.950</td>\n",
       "    </tr>\n",
       "    <tr>\n",
       "      <th>2</th>\n",
       "      <td>50.0</td>\n",
       "      <td>200.0</td>\n",
       "      <td>0.10</td>\n",
       "      <td>61.0</td>\n",
       "      <td>18m6s</td>\n",
       "      <td>0.830</td>\n",
       "      <td>0.470</td>\n",
       "      <td>0.600</td>\n",
       "      <td>24.770</td>\n",
       "    </tr>\n",
       "    <tr>\n",
       "      <th>3</th>\n",
       "      <td>55.0</td>\n",
       "      <td>200.0</td>\n",
       "      <td>0.20</td>\n",
       "      <td>93.0</td>\n",
       "      <td>9m16s</td>\n",
       "      <td>1.090</td>\n",
       "      <td>0.460</td>\n",
       "      <td>0.700</td>\n",
       "      <td>25.100</td>\n",
       "    </tr>\n",
       "    <tr>\n",
       "      <th>4</th>\n",
       "      <td>60.0</td>\n",
       "      <td>210.0</td>\n",
       "      <td>0.30</td>\n",
       "      <td>135.0</td>\n",
       "      <td>6m20s</td>\n",
       "      <td>0.940</td>\n",
       "      <td>0.480</td>\n",
       "      <td>0.730</td>\n",
       "      <td>24.600</td>\n",
       "    </tr>\n",
       "    <tr>\n",
       "      <th>5</th>\n",
       "      <td>NaN</td>\n",
       "      <td>NaN</td>\n",
       "      <td>NaN</td>\n",
       "      <td>NaN</td>\n",
       "      <td>Average</td>\n",
       "      <td>0.918</td>\n",
       "      <td>0.454</td>\n",
       "      <td>0.672</td>\n",
       "      <td>24.864</td>\n",
       "    </tr>\n",
       "  </tbody>\n",
       "</table>\n",
       "</div>"
      ],
      "text/plain": [
       "   Extruder Velocity  Extruder Temperature  Layer Thickness  Serial  \\\n",
       "0               40.0                 205.0             0.15     7.0   \n",
       "1               45.0                 200.0             0.25    34.0   \n",
       "2               50.0                 200.0             0.10    61.0   \n",
       "3               55.0                 200.0             0.20    93.0   \n",
       "4               60.0                 210.0             0.30   135.0   \n",
       "5                NaN                   NaN              NaN     NaN   \n",
       "\n",
       "  Processing Time  Thickness (End1, middle, End2) (mm)  Unnamed: 6  \\\n",
       "0           12m7s                                0.900       0.410   \n",
       "1           7m26s                                0.830       0.450   \n",
       "2           18m6s                                0.830       0.470   \n",
       "3           9m16s                                1.090       0.460   \n",
       "4           6m20s                                0.940       0.480   \n",
       "5         Average                                0.918       0.454   \n",
       "\n",
       "   Unnamed: 7  Width (mm)  \n",
       "0       0.630      24.900  \n",
       "1       0.700      24.950  \n",
       "2       0.600      24.770  \n",
       "3       0.700      25.100  \n",
       "4       0.730      24.600  \n",
       "5       0.672      24.864  "
      ]
     },
     "execution_count": 11,
     "metadata": {},
     "output_type": "execute_result"
    }
   ],
   "source": [
    "ex = pd.read_excel('design_matrix.xlsx', sheet_name = 'Sheet2')\n",
    "ex"
   ]
  },
  {
   "cell_type": "code",
   "execution_count": 13,
   "id": "ec5f92dc-303a-41e1-800a-0b7f3a89d894",
   "metadata": {},
   "outputs": [
    {
     "name": "stdout",
     "output_type": "stream",
     "text": [
      "Requirement already satisfied: requests in c:\\users\\asus\\anaconda3\\lib\\site-packages (2.32.2)\n",
      "Requirement already satisfied: charset-normalizer<4,>=2 in c:\\users\\asus\\anaconda3\\lib\\site-packages (from requests) (2.0.4)\n",
      "Requirement already satisfied: idna<4,>=2.5 in c:\\users\\asus\\anaconda3\\lib\\site-packages (from requests) (3.7)\n",
      "Requirement already satisfied: urllib3<3,>=1.21.1 in c:\\users\\asus\\anaconda3\\lib\\site-packages (from requests) (2.2.2)\n",
      "Requirement already satisfied: certifi>=2017.4.17 in c:\\users\\asus\\anaconda3\\lib\\site-packages (from requests) (2024.8.30)\n"
     ]
    }
   ],
   "source": [
    "!pip install requests"
   ]
  },
  {
   "cell_type": "code",
   "execution_count": 15,
   "id": "477f13d0-0f27-4b9f-9ba2-ba956b83f90e",
   "metadata": {},
   "outputs": [],
   "source": [
    "import requests as rq"
   ]
  },
  {
   "cell_type": "code",
   "execution_count": 17,
   "id": "707a33cd-b95e-480b-9a20-0b910daf3953",
   "metadata": {},
   "outputs": [],
   "source": [
    "from io import StringIO"
   ]
  },
  {
   "cell_type": "code",
   "execution_count": 40,
   "id": "4de0058d-b3b2-4d33-839c-4e2c4a880031",
   "metadata": {},
   "outputs": [
    {
     "ename": "AttributeError",
     "evalue": "module 'pandas' has no attribute 'read_xlsx'",
     "output_type": "error",
     "traceback": [
      "\u001b[1;31m---------------------------------------------------------------------------\u001b[0m",
      "\u001b[1;31mAttributeError\u001b[0m                            Traceback (most recent call last)",
      "Cell \u001b[1;32mIn[40], line 2\u001b[0m\n\u001b[0;32m      1\u001b[0m url \u001b[38;5;241m=\u001b[39m \u001b[38;5;124m'\u001b[39m\u001b[38;5;124mhttps://github.com/mdsadmansami/First-Project/raw/refs/heads/main/New\u001b[39m\u001b[38;5;124m%\u001b[39m\u001b[38;5;124m20Microsoft\u001b[39m\u001b[38;5;132;01m%20E\u001b[39;00m\u001b[38;5;124mxcel\u001b[39m\u001b[38;5;124m%\u001b[39m\u001b[38;5;124m20Worksheet.xlsx\u001b[39m\u001b[38;5;124m'\u001b[39m\n\u001b[1;32m----> 2\u001b[0m df \u001b[38;5;241m=\u001b[39m pd\u001b[38;5;241m.\u001b[39mread_xlsx(url)\n\u001b[0;32m      3\u001b[0m df\u001b[38;5;241m.\u001b[39mhead()\n",
      "\u001b[1;31mAttributeError\u001b[0m: module 'pandas' has no attribute 'read_xlsx'"
     ]
    }
   ],
   "source": [
    "url = 'https://github.com/mdsadmansami/First-Project/raw/refs/heads/main/New%20Microsoft%20Excel%20Worksheet.xlsx'\n",
    "df = pd.read_xlsx(url)\n",
    "df.head()"
   ]
  },
  {
   "cell_type": "code",
   "execution_count": 42,
   "id": "205bff6a-678d-46c3-9aa9-e478dd0c3d59",
   "metadata": {},
   "outputs": [
    {
     "name": "stdout",
     "output_type": "stream",
     "text": [
      "Requirement already satisfied: openpyxl in c:\\users\\asus\\anaconda3\\lib\\site-packages (3.1.2)\n",
      "Requirement already satisfied: et-xmlfile in c:\\users\\asus\\anaconda3\\lib\\site-packages (from openpyxl) (1.1.0)\n"
     ]
    }
   ],
   "source": [
    "!pip install openpyxl"
   ]
  },
  {
   "cell_type": "code",
   "execution_count": 61,
   "id": "bd9f2222-20af-4cff-bc5e-00689173b971",
   "metadata": {},
   "outputs": [
    {
     "data": {
      "text/html": [
       "<div>\n",
       "<style scoped>\n",
       "    .dataframe tbody tr th:only-of-type {\n",
       "        vertical-align: middle;\n",
       "    }\n",
       "\n",
       "    .dataframe tbody tr th {\n",
       "        vertical-align: top;\n",
       "    }\n",
       "\n",
       "    .dataframe thead th {\n",
       "        text-align: right;\n",
       "    }\n",
       "</style>\n",
       "<table border=\"1\" class=\"dataframe\">\n",
       "  <thead>\n",
       "    <tr style=\"text-align: right;\">\n",
       "      <th></th>\n",
       "      <th>kuttar bachcha</th>\n",
       "    </tr>\n",
       "  </thead>\n",
       "  <tbody>\n",
       "  </tbody>\n",
       "</table>\n",
       "</div>"
      ],
      "text/plain": [
       "Empty DataFrame\n",
       "Columns: [kuttar bachcha]\n",
       "Index: []"
      ]
     },
     "execution_count": 61,
     "metadata": {},
     "output_type": "execute_result"
    }
   ],
   "source": [
    "import pandas as pd\n",
    "import openpyxl  # Import openpyxl (optional)\n",
    "\n",
    "url = 'https://github.com/mdsadmansami/First-Project/raw/refs/heads/main/New%20Text%20Document.txt'\n",
    "df = pd.read_csv(url)\n",
    "df"
   ]
  },
  {
   "cell_type": "code",
   "execution_count": 63,
   "id": "e1861c70-a640-4336-945e-f400a93a0286",
   "metadata": {},
   "outputs": [
    {
     "name": "stdout",
     "output_type": "stream",
     "text": [
      "Collecting gspread\n",
      "  Downloading gspread-6.1.2-py3-none-any.whl.metadata (11 kB)\n",
      "Collecting google-auth>=1.12.0 (from gspread)\n",
      "  Downloading google_auth-2.35.0-py2.py3-none-any.whl.metadata (4.7 kB)\n",
      "Collecting google-auth-oauthlib>=0.4.1 (from gspread)\n",
      "  Downloading google_auth_oauthlib-1.2.1-py2.py3-none-any.whl.metadata (2.7 kB)\n",
      "Requirement already satisfied: cachetools<6.0,>=2.0.0 in c:\\users\\asus\\anaconda3\\lib\\site-packages (from google-auth>=1.12.0->gspread) (5.3.3)\n",
      "Requirement already satisfied: pyasn1-modules>=0.2.1 in c:\\users\\asus\\anaconda3\\lib\\site-packages (from google-auth>=1.12.0->gspread) (0.2.8)\n",
      "Collecting rsa<5,>=3.1.4 (from google-auth>=1.12.0->gspread)\n",
      "  Downloading rsa-4.9-py3-none-any.whl.metadata (4.2 kB)\n",
      "Collecting requests-oauthlib>=0.7.0 (from google-auth-oauthlib>=0.4.1->gspread)\n",
      "  Downloading requests_oauthlib-2.0.0-py2.py3-none-any.whl.metadata (11 kB)\n",
      "Requirement already satisfied: pyasn1<0.5.0,>=0.4.6 in c:\\users\\asus\\anaconda3\\lib\\site-packages (from pyasn1-modules>=0.2.1->google-auth>=1.12.0->gspread) (0.4.8)\n",
      "Collecting oauthlib>=3.0.0 (from requests-oauthlib>=0.7.0->google-auth-oauthlib>=0.4.1->gspread)\n",
      "  Downloading oauthlib-3.2.2-py3-none-any.whl.metadata (7.5 kB)\n",
      "Requirement already satisfied: requests>=2.0.0 in c:\\users\\asus\\anaconda3\\lib\\site-packages (from requests-oauthlib>=0.7.0->google-auth-oauthlib>=0.4.1->gspread) (2.32.2)\n",
      "Requirement already satisfied: charset-normalizer<4,>=2 in c:\\users\\asus\\anaconda3\\lib\\site-packages (from requests>=2.0.0->requests-oauthlib>=0.7.0->google-auth-oauthlib>=0.4.1->gspread) (2.0.4)\n",
      "Requirement already satisfied: idna<4,>=2.5 in c:\\users\\asus\\anaconda3\\lib\\site-packages (from requests>=2.0.0->requests-oauthlib>=0.7.0->google-auth-oauthlib>=0.4.1->gspread) (3.7)\n",
      "Requirement already satisfied: urllib3<3,>=1.21.1 in c:\\users\\asus\\anaconda3\\lib\\site-packages (from requests>=2.0.0->requests-oauthlib>=0.7.0->google-auth-oauthlib>=0.4.1->gspread) (2.2.2)\n",
      "Requirement already satisfied: certifi>=2017.4.17 in c:\\users\\asus\\anaconda3\\lib\\site-packages (from requests>=2.0.0->requests-oauthlib>=0.7.0->google-auth-oauthlib>=0.4.1->gspread) (2024.8.30)\n",
      "Downloading gspread-6.1.2-py3-none-any.whl (57 kB)\n",
      "   ---------------------------------------- 0.0/57.5 kB ? eta -:--:--\n",
      "   --------------------- ------------------ 30.7/57.5 kB 640.0 kB/s eta 0:00:01\n",
      "   ---------------------------------------- 57.5/57.5 kB 598.3 kB/s eta 0:00:00\n",
      "Downloading google_auth-2.35.0-py2.py3-none-any.whl (208 kB)\n",
      "   ---------------------------------------- 0.0/209.0 kB ? eta -:--:--\n",
      "   --------------- ------------------------ 81.9/209.0 kB 4.5 MB/s eta 0:00:01\n",
      "   ---------------------------------------  204.8/209.0 kB 2.5 MB/s eta 0:00:01\n",
      "   ---------------------------------------- 209.0/209.0 kB 2.1 MB/s eta 0:00:00\n",
      "Downloading google_auth_oauthlib-1.2.1-py2.py3-none-any.whl (24 kB)\n",
      "Downloading requests_oauthlib-2.0.0-py2.py3-none-any.whl (24 kB)\n",
      "Downloading rsa-4.9-py3-none-any.whl (34 kB)\n",
      "Downloading oauthlib-3.2.2-py3-none-any.whl (151 kB)\n",
      "   ---------------------------------------- 0.0/151.7 kB ? eta -:--:--\n",
      "   ---------------------------------------- 151.7/151.7 kB 4.6 MB/s eta 0:00:00\n",
      "Installing collected packages: rsa, oauthlib, requests-oauthlib, google-auth, google-auth-oauthlib, gspread\n",
      "Successfully installed google-auth-2.35.0 google-auth-oauthlib-1.2.1 gspread-6.1.2 oauthlib-3.2.2 requests-oauthlib-2.0.0 rsa-4.9\n"
     ]
    }
   ],
   "source": [
    "!pip install gspread"
   ]
  },
  {
   "cell_type": "code",
   "execution_count": 65,
   "id": "b7ea3eea-3fee-403c-a228-dbfef2e847b5",
   "metadata": {},
   "outputs": [],
   "source": [
    "import gspread as gs"
   ]
  },
  {
   "cell_type": "code",
   "execution_count": 75,
   "id": "44810fa4-7538-4364-805e-b984d44c4936",
   "metadata": {},
   "outputs": [],
   "source": [
    "gc = gs.service_account(filename=\"G:\\\\learning\\\\optical-hangar-437510-j3-eadd60cde9c3.json\")"
   ]
  },
  {
   "cell_type": "code",
   "execution_count": 77,
   "id": "a25ea73c-31ed-497e-8fe1-f07753650ea6",
   "metadata": {},
   "outputs": [
    {
     "data": {
      "text/plain": [
       "<gspread.client.Client at 0x1f8067c7ad0>"
      ]
     },
     "execution_count": 77,
     "metadata": {},
     "output_type": "execute_result"
    }
   ],
   "source": [
    "gc"
   ]
  },
  {
   "cell_type": "code",
   "execution_count": 81,
   "id": "9a9f4018-9e1e-4c54-830c-1b23d5d5fa88",
   "metadata": {},
   "outputs": [],
   "source": [
    "sheet = gc.open_by_url('https://docs.google.com/spreadsheets/d/1RLDd8kxpftcppeDt_47lcPtv5KnKNXXIVQ5VTG3-WWg/edit?gid=1001444419#gid=1001444419')"
   ]
  },
  {
   "cell_type": "code",
   "execution_count": 97,
   "id": "9ede100d-a3ea-4741-a3e4-4e40ea4d90a5",
   "metadata": {},
   "outputs": [],
   "source": [
    "ws = sheet.worksheet('Sheet2')"
   ]
  },
  {
   "cell_type": "code",
   "execution_count": 98,
   "id": "367e32ff-34d1-4177-b1b0-03aed31f637a",
   "metadata": {},
   "outputs": [
    {
     "data": {
      "text/plain": [
       "<Worksheet 'Sheet2' id:1001444419>"
      ]
     },
     "execution_count": 98,
     "metadata": {},
     "output_type": "execute_result"
    }
   ],
   "source": [
    "ws"
   ]
  },
  {
   "cell_type": "code",
   "execution_count": 101,
   "id": "bf7cfbec-d303-4c06-a679-0f5ac27cb84a",
   "metadata": {},
   "outputs": [],
   "source": [
    "df = pd.DataFrame(ws.get_all_records())"
   ]
  },
  {
   "cell_type": "code",
   "execution_count": 103,
   "id": "cee5e915-4808-4cd4-8ed2-eabb0494d96c",
   "metadata": {},
   "outputs": [
    {
     "data": {
      "text/html": [
       "<div>\n",
       "<style scoped>\n",
       "    .dataframe tbody tr th:only-of-type {\n",
       "        vertical-align: middle;\n",
       "    }\n",
       "\n",
       "    .dataframe tbody tr th {\n",
       "        vertical-align: top;\n",
       "    }\n",
       "\n",
       "    .dataframe thead th {\n",
       "        text-align: right;\n",
       "    }\n",
       "</style>\n",
       "<table border=\"1\" class=\"dataframe\">\n",
       "  <thead>\n",
       "    <tr style=\"text-align: right;\">\n",
       "      <th></th>\n",
       "      <th>name</th>\n",
       "      <th>salary</th>\n",
       "    </tr>\n",
       "  </thead>\n",
       "  <tbody>\n",
       "    <tr>\n",
       "      <th>0</th>\n",
       "      <td>sa</td>\n",
       "      <td>10000</td>\n",
       "    </tr>\n",
       "    <tr>\n",
       "      <th>1</th>\n",
       "      <td>mi</td>\n",
       "      <td>20000</td>\n",
       "    </tr>\n",
       "    <tr>\n",
       "      <th>2</th>\n",
       "      <td>hu my</td>\n",
       "      <td>30000</td>\n",
       "    </tr>\n",
       "  </tbody>\n",
       "</table>\n",
       "</div>"
      ],
      "text/plain": [
       "    name  salary\n",
       "0    sa    10000\n",
       "1     mi   20000\n",
       "2  hu my   30000"
      ]
     },
     "execution_count": 103,
     "metadata": {},
     "output_type": "execute_result"
    }
   ],
   "source": [
    "df"
   ]
  },
  {
   "cell_type": "code",
   "execution_count": null,
   "id": "33905880-13f6-462d-8139-167258b10bb5",
   "metadata": {},
   "outputs": [],
   "source": []
  }
 ],
 "metadata": {
  "kernelspec": {
   "display_name": "Python 3 (ipykernel)",
   "language": "python",
   "name": "python3"
  },
  "language_info": {
   "codemirror_mode": {
    "name": "ipython",
    "version": 3
   },
   "file_extension": ".py",
   "mimetype": "text/x-python",
   "name": "python",
   "nbconvert_exporter": "python",
   "pygments_lexer": "ipython3",
   "version": "3.12.4"
  }
 },
 "nbformat": 4,
 "nbformat_minor": 5
}
